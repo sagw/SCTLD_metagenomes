{
 "cells": [
  {
   "cell_type": "code",
   "execution_count": null,
   "metadata": {},
   "outputs": [],
   "source": [
    "# /bin/sh\n",
    "# ----------------Parameters---------------------- #\n",
    "#$ -S /bin/sh\n",
    "#$ -pe mthread 15\n",
    "#$ -q sThC.q\n",
    "#$ -l mres=120G,h_data=8G,h_vmem=8G\n",
    "#$ -cwd\n",
    "#$ -j y\n",
    "#$ -N index_mcav\n",
    "#$ -o index_mcav.log\n",
    "#$ -M gignoux-wolfsohns@si.edu\n",
    "#\n",
    "# ----------------Modules------------------------- #\n",
    "module load bioinformatics/bowtie2\n",
    "#\n",
    "# ----------------Your Commands------------------- #\n",
    "#\n",
    "echo + `date` job $JOB_NAME started in $QUEUE with jobID=$JOB_ID on $HOSTNAME\n",
    "echo + NSLOTS = $NSLOTS\n",
    "#\n",
    "bowtie2-build Mcavernosa_July2018_phased.fasta Mcavernosa_July2018_phased_index --threads 15\n",
    "#\n",
    "echo = `date` job $JOB_NAME done"
   ]
  },
  {
   "cell_type": "code",
   "execution_count": null,
   "metadata": {},
   "outputs": [],
   "source": [
    "# /bin/sh\n",
    "# ----------------Parameters---------------------- #\n",
    "#$ -S /bin/sh\n",
    "#$ -pe mthread 15\n",
    "#$ -q sThC.q\n",
    "#$ -l mres=120G,h_data=8G,h_vmem=8G\n",
    "#$ -cwd\n",
    "#$ -j y\n",
    "#$ -N index_sym\n",
    "#$ -o index_sym.log\n",
    "#$ -M gignoux-wolfsohns@si.edu\n",
    "#\n",
    "# ----------------Modules------------------------- #\n",
    "module load bioinformatics/bowtie2\n",
    "#\n",
    "# ----------------Your Commands------------------- #\n",
    "#\n",
    "echo + `date` job $JOB_NAME started in $QUEUE with jobID=$JOB_ID on $HOSTNAME\n",
    "echo + NSLOTS = $NSLOTS\n",
    "#\n",
    "bowtie2-build symbio_refs.fna symbio_refs_index --threads 15\n",
    "#\n",
    "echo = `date` job $JOB_NAME done"
   ]
  },
  {
   "cell_type": "markdown",
   "metadata": {},
   "source": [
    "Trim reads"
   ]
  },
  {
   "cell_type": "code",
   "execution_count": null,
   "metadata": {},
   "outputs": [],
   "source": [
    "# /bin/sh \n",
    "# ----------------Parameters---------------------- #\n",
    "#$  -S /bin/sh\n",
    "#$ -pe mthread 12\n",
    "#$ -q mThC.q\n",
    "#$ -l mres=72G,h_data=6G,h_vmem=6G\n",
    "#$ -cwd\n",
    "#$ -j y\n",
    "#$ -N trim_corals\n",
    "#$ -o trim_corals.log\n",
    "#$ -m bea\n",
    "#$ -M gignoux-wolfsohns@si.edu\n",
    "#\n",
    "# ----------------Modules------------------------- #\n",
    "module load bioinformatics/trim_galore\n",
    "#\n",
    "# ----------------Your Commands------------------- #\n",
    "#\n",
    "echo + `date` job $JOB_NAME started in $QUEUE with jobID=$JOB_ID on $HOSTNAME\n",
    "echo + NSLOTS = $NSLOTS\n",
    "#\n",
    "for f in Coral1 Coral2 Coral3 Coral4 Coral5 T3-21-Mmea_S96_L001 T3-4-Past_S113_L001; \n",
    "do \n",
    "    trim_galore -q 20 --phred33 --fastqc --illumina --length 20 --paired \"$f\"_R1_001.fastq \"$f\"_R2_001.fastq;\n",
    "done\n",
    "\n",
    "#\n",
    "echo = `date` job $JOB_NAME done"
   ]
  },
  {
   "cell_type": "markdown",
   "metadata": {},
   "source": [
    "run through fastqscreen to see ratios of different genomes"
   ]
  },
  {
   "cell_type": "code",
   "execution_count": null,
   "metadata": {},
   "outputs": [],
   "source": [
    "# /bin/sh\n",
    "# ----------------Parameters---------------------- #\n",
    "#$ -S /bin/sh\n",
    "#$ -pe mthread 20\n",
    "#$ -q mThC.q\n",
    "#$ -l mres=160G,h_data=8G,h_vmem=8G\n",
    "#$ -cwd\n",
    "#$ -j y\n",
    "#$ -N coral_screen\n",
    "#$ -o coral_screen.log\n",
    "#\n",
    "# ----------------Modules------------------------- #\n",
    "module load bioinformatics/bowtie2\n",
    "#\n",
    "# ----------------Your Commands------------------- #\n",
    "#\n",
    "echo + `date` job $JOB_NAME started in $QUEUE with jobID=$JOB_ID on $HOSTNAME\n",
    "echo + NSLOTS = $NSLOTS\n",
    "#\n",
    "for f in Coral1 Coral2 Coral3 Coral4 Coral5 T3-21-Mmea_S96_L001 T3-4-Past_S113_L001; \n",
    "do /home/gignoux-wolfsohns/FastQ-Screen-0.15.0/fastq_screen --threads 15 --subset 0 --tag --aligner Bowtie2 \"$f\"_R1_001_val_1.fq \"$f\"_R2_001_val_2.fq; \n",
    "done\n",
    "\n",
    "#\n",
    "echo = `date` job $JOB_NAME done"
   ]
  },
  {
   "cell_type": "code",
   "execution_count": null,
   "metadata": {},
   "outputs": [],
   "source": []
  },
  {
   "cell_type": "code",
   "execution_count": null,
   "metadata": {},
   "outputs": [],
   "source": []
  },
  {
   "cell_type": "markdown",
   "metadata": {},
   "source": [
    "Remove optical duplicates--picard tools"
   ]
  },
  {
   "cell_type": "markdown",
   "metadata": {},
   "source": [
    "for f in Coral1 Coral2 Coral3 Coral4 Coral5 T3-21-Mmea_S96_L001 T3-4-Past_S113_L001; \n",
    "do /home/gignoux-wolfsohns/FastQ-Screen-0.15.0/fastq_screen --threads 15 --subset 0 --tag --aligner Bowtie2 \"$f\"_R1_001_val_1.fq \"$f\"_R2_001_val_2.fq; \n",
    "done\n"
   ]
  },
  {
   "cell_type": "code",
   "execution_count": null,
   "metadata": {},
   "outputs": [],
   "source": []
  }
 ],
 "metadata": {
  "kernelspec": {
   "display_name": "Python 3",
   "language": "python",
   "name": "python3"
  },
  "language_info": {
   "codemirror_mode": {
    "name": "ipython",
    "version": 3
   },
   "file_extension": ".py",
   "mimetype": "text/x-python",
   "name": "python",
   "nbconvert_exporter": "python",
   "pygments_lexer": "ipython3",
   "version": "3.8.3"
  }
 },
 "nbformat": 4,
 "nbformat_minor": 4
}
