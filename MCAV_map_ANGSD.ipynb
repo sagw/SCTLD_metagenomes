{
 "cells": [
  {
   "cell_type": "code",
   "execution_count": null,
   "id": "4bfe07c9",
   "metadata": {},
   "outputs": [],
   "source": [
    "module spider hisat2\n",
    "\n",
    "-----------------------------------------------------------------------------------------------------------------------------------------------\n",
    "  hisat2: hisat2/2.2.0\n",
    "-----------------------------------------------------------------------------------------------------------------------------------------------\n",
    "\n",
    "     Other possible modules matches:\n",
    "        HISAT2, all/HISAT2, bio/HISAT2\n",
    "\n",
    "    This module can be loaded directly: module load hisat2/2.2.0\n",
    "\n",
    "    Additional variants of this module can also be loaded after loading the following modules:\n",
    "\n",
    "      microarch/x86_64\n",
    " \n",
    "    Help:\n",
    "      HISAT2 is a fast and sensitive alignment program for mapping next-\n",
    "      generation sequencing reads (whole-genome, transcriptome, and exome\n",
    "      sequencing data) against the general human population (as well as\n",
    "      against a single reference genome).\n",
    "      \n"
   ]
  },
  {
   "cell_type": "code",
   "execution_count": null,
   "id": "4ed9278f",
   "metadata": {},
   "outputs": [],
   "source": [
    "#!/bin/bash\n",
    "#SBATCH --mail-type=ALL\n",
    "#SBATCH -c 4  # Number of Cores per Task\n",
    "#SBATCH -t 10-0:00\n",
    "#SBATCH --mem=60000 # Requested Memory\n",
    "#SBATCH -p cpu-preempt  # Partition\n",
    "#SBATCH -c 64  # Number of CPUs\n",
    "#SBATCH -o slurm-%j.out  # %j = job ID\n",
    "\n",
    "module load hisat2/2.2.0\n",
    "\n",
    "hisat2-build Mcavernosa_July2018_phased.fasta Mcavernosa_July2018_phased_index --threads 15\n",
    "\n"
   ]
  },
  {
   "cell_type": "code",
   "execution_count": 2,
   "id": "d0df62e7",
   "metadata": {},
   "outputs": [
    {
     "name": "stdout",
     "output_type": "stream",
     "text": [
      "/Users/sarah/Documents/SCTLD/metagenomes/MCAV_round1/trimmed\n"
     ]
    }
   ],
   "source": [
    "cd /Users/sarah/Documents/SCTLD/metagenomes/MCAV_round1/trimmed"
   ]
  },
  {
   "cell_type": "code",
   "execution_count": 38,
   "id": "2ee17d40",
   "metadata": {
    "scrolled": true
   },
   "outputs": [
    {
     "name": "stdout",
     "output_type": "stream",
     "text": [
      "set2T1_12_2022_MCAV_S73_R1_001_val_1.fq.gz\r\n",
      "set2T1_12_2022_MCAV_S73_R2_001_val_2.fq.gz\r\n",
      "set2T1_13_2022_MCAV_S77_R1_001_val_1.fq.gz\r\n",
      "set2T1_13_2022_MCAV_S77_R2_001_val_2.fq.gz\r\n",
      "set2T1_16_2019_MCAV_S67_R1_001_val_1.fq.gz\r\n",
      "set2T1_16_2019_MCAV_S67_R2_001_val_2.fq.gz\r\n",
      "set2T1_20_2019_MCAV_S81_R1_001_val_1.fq.gz\r\n",
      "set2T1_20_2019_MCAV_S81_R2_001_val_2.fq.gz\r\n",
      "set2T1_24_2019_MCAV_S68_R1_001_val_1.fq.gz\r\n",
      "set2T1_24_2019_MCAV_S68_R2_001_val_2.fq.gz\r\n",
      "set2T1_24_2019_MCAV_S89_R1_001_val_1.fq.gz\r\n",
      "set2T1_24_2019_MCAV_S89_R2_001_val_2.fq.gz\r\n",
      "set2T1_40_2022_MCAV_S74_R1_001_val_1.fq.gz\r\n",
      "set2T1_40_2022_MCAV_S74_R2_001_val_2.fq.gz\r\n",
      "set2T1_57_2022_MCAV_S55_R1_001_val_1.fq.gz\r\n",
      "set2T1_57_2022_MCAV_S55_R2_001_val_2.fq.gz\r\n",
      "set2T1_70_2022_MCAV_S78_R1_001_val_1.fq.gz\r\n",
      "set2T1_70_2022_MCAV_S78_R2_001_val_2.fq.gz\r\n",
      "set2T2_10_2022_MCAV_S57_R1_001_val_1.fq.gz\r\n",
      "set2T2_10_2022_MCAV_S57_R2_001_val_2.fq.gz\r\n",
      "set2T2_16_2019_MCAV_S82_R1_001_val_1.fq.gz\r\n",
      "set2T2_16_2019_MCAV_S82_R2_001_val_2.fq.gz\r\n",
      "set2T2_16_2019_MCAV_S88_R1_001_val_1.fq.gz\r\n",
      "set2T2_16_2019_MCAV_S88_R2_001_val_2.fq.gz\r\n",
      "set2T3_13_2022_MCAV_S58_R1_001_val_1.fq.gz\r\n",
      "set2T3_13_2022_MCAV_S58_R2_001_val_2.fq.gz\r\n",
      "set2T3_14_2019_MCAV_S70_R1_001_val_1.fq.gz\r\n",
      "set2T3_14_2019_MCAV_S70_R2_001_val_2.fq.gz\r\n",
      "set2T3_15_2019_MCAV_S71_R1_001_val_1.fq.gz\r\n",
      "set2T3_15_2019_MCAV_S71_R2_001_val_2.fq.gz\r\n",
      "set2T3_19_2022_MCAV_S59_R1_001_val_1.fq.gz\r\n",
      "set2T3_19_2022_MCAV_S59_R2_001_val_2.fq.gz\r\n",
      "set2T3_1_2019_MCAV_S72_R1_001_val_1.fq.gz\r\n",
      "set2T3_1_2019_MCAV_S72_R2_001_val_2.fq.gz\r\n",
      "set2T3_1_2022_MCAV_S56_R1_001_val_1.fq.gz\r\n",
      "set2T3_1_2022_MCAV_S56_R2_001_val_2.fq.gz\r\n",
      "set2T3_40_2022_MCAV_S76_R1_001_val_1.fq.gz\r\n",
      "set2T3_40_2022_MCAV_S76_R2_001_val_2.fq.gz\r\n",
      "set2T3_48_2022_MCAV_S75_R1_001_val_1.fq.gz\r\n",
      "set2T3_48_2022_MCAV_S75_R2_001_val_2.fq.gz\r\n",
      "set2T3_48_2022_MCAV_S91_R1_001_val_1.fq.gz\r\n",
      "set2T3_48_2022_MCAV_S91_R2_001_val_2.fq.gz\r\n",
      "set2T3_49_2022_MCAV_S79_R1_001_val_1.fq.gz\r\n",
      "set2T3_49_2022_MCAV_S79_R2_001_val_2.fq.gz\r\n",
      "set2T3_51_2022_MCAV_S80_R1_001_val_1.fq.gz\r\n",
      "set2T3_51_2022_MCAV_S80_R2_001_val_2.fq.gz\r\n",
      "set2T3_60_2022_MCAV_S84_R1_001_val_1.fq.gz\r\n",
      "set2T3_60_2022_MCAV_S84_R2_001_val_2.fq.gz\r\n",
      "set2T3_8_2019_MCAV_S66_R1_001_val_1.fq.gz\r\n",
      "set2T3_8_2019_MCAV_S66_R2_001_val_2.fq.gz\r\n",
      "set2T3_8_2019_MCAV_S83_R1_001_val_1.fq.gz\r\n",
      "set2T3_8_2019_MCAV_S83_R2_001_val_2.fq.gz\r\n",
      "set2T3_9_2019_MCAV_S69_R1_001_val_1.fq.gz\r\n",
      "set2T3_9_2019_MCAV_S69_R2_001_val_2.fq.gz\r\n"
     ]
    }
   ],
   "source": [
    "!ls"
   ]
  },
  {
   "cell_type": "code",
   "execution_count": 37,
   "id": "a5e2894e",
   "metadata": {
    "scrolled": true
   },
   "outputs": [
    {
     "name": "stdout",
     "output_type": "stream",
     "text": [
      "hisat2 -x mm10idx -1 set2T1_12_2022_MCAV_S73_R1_001_val_1.fq.gz -2 set2T1_12_2022_MCAV_S73_R2_001_val_2.fq.gz -S set2T1_12_2022_MCAV_S73.bam\r\n",
      "hisat2 -x mm10idx -1 set2T1_13_2022_MCAV_S77_R1_001_val_1.fq.gz -2 set2T1_13_2022_MCAV_S77_R2_001_val_2.fq.gz -S set2T1_13_2022_MCAV_S77.bam\r\n",
      "hisat2 -x mm10idx -1 set2T1_16_2019_MCAV_S67_R1_001_val_1.fq.gz -2 set2T1_16_2019_MCAV_S67_R2_001_val_2.fq.gz -S set2T1_16_2019_MCAV_S67.bam\r\n",
      "hisat2 -x mm10idx -1 set2T1_20_2019_MCAV_S81_R1_001_val_1.fq.gz -2 set2T1_20_2019_MCAV_S81_R2_001_val_2.fq.gz -S set2T1_20_2019_MCAV_S81.bam\r\n",
      "hisat2 -x mm10idx -1 set2T1_24_2019_MCAV_S68_R1_001_val_1.fq.gz -2 set2T1_24_2019_MCAV_S68_R2_001_val_2.fq.gz -S set2T1_24_2019_MCAV_S68.bam\r\n",
      "hisat2 -x mm10idx -1 set2T1_24_2019_MCAV_S89_R1_001_val_1.fq.gz -2 set2T1_24_2019_MCAV_S89_R2_001_val_2.fq.gz -S set2T1_24_2019_MCAV_S89.bam\r\n",
      "hisat2 -x mm10idx -1 set2T1_40_2022_MCAV_S74_R1_001_val_1.fq.gz -2 set2T1_40_2022_MCAV_S74_R2_001_val_2.fq.gz -S set2T1_40_2022_MCAV_S74.bam\r\n",
      "hisat2 -x mm10idx -1 set2T1_57_2022_MCAV_S55_R1_001_val_1.fq.gz -2 set2T1_57_2022_MCAV_S55_R2_001_val_2.fq.gz -S set2T1_57_2022_MCAV_S55.bam\r\n",
      "hisat2 -x mm10idx -1 set2T1_70_2022_MCAV_S78_R1_001_val_1.fq.gz -2 set2T1_70_2022_MCAV_S78_R2_001_val_2.fq.gz -S set2T1_70_2022_MCAV_S78.bam\r\n",
      "hisat2 -x mm10idx -1 set2T2_10_2022_MCAV_S57_R1_001_val_1.fq.gz -2 set2T2_10_2022_MCAV_S57_R2_001_val_2.fq.gz -S set2T2_10_2022_MCAV_S57.bam\r\n",
      "hisat2 -x mm10idx -1 set2T2_16_2019_MCAV_S82_R1_001_val_1.fq.gz -2 set2T2_16_2019_MCAV_S82_R2_001_val_2.fq.gz -S set2T2_16_2019_MCAV_S82.bam\r\n",
      "hisat2 -x mm10idx -1 set2T2_16_2019_MCAV_S88_R1_001_val_1.fq.gz -2 set2T2_16_2019_MCAV_S88_R2_001_val_2.fq.gz -S set2T2_16_2019_MCAV_S88.bam\r\n",
      "hisat2 -x mm10idx -1 set2T3_13_2022_MCAV_S58_R1_001_val_1.fq.gz -2 set2T3_13_2022_MCAV_S58_R2_001_val_2.fq.gz -S set2T3_13_2022_MCAV_S58.bam\r\n",
      "hisat2 -x mm10idx -1 set2T3_14_2019_MCAV_S70_R1_001_val_1.fq.gz -2 set2T3_14_2019_MCAV_S70_R2_001_val_2.fq.gz -S set2T3_14_2019_MCAV_S70.bam\r\n",
      "hisat2 -x mm10idx -1 set2T3_15_2019_MCAV_S71_R1_001_val_1.fq.gz -2 set2T3_15_2019_MCAV_S71_R2_001_val_2.fq.gz -S set2T3_15_2019_MCAV_S71.bam\r\n",
      "hisat2 -x mm10idx -1 set2T3_19_2022_MCAV_S59_R1_001_val_1.fq.gz -2 set2T3_19_2022_MCAV_S59_R2_001_val_2.fq.gz -S set2T3_19_2022_MCAV_S59.bam\r\n",
      "hisat2 -x mm10idx -1 set2T3_1_2019_MCAV_S72_R1_001_val_1.fq.gz -2 set2T3_1_2019_MCAV_S72_R2_001_val_2.fq.gz -S set2T3_1_2019_MCAV_S72.bam\r\n",
      "hisat2 -x mm10idx -1 set2T3_1_2022_MCAV_S56_R1_001_val_1.fq.gz -2 set2T3_1_2022_MCAV_S56_R2_001_val_2.fq.gz -S set2T3_1_2022_MCAV_S56.bam\r\n",
      "hisat2 -x mm10idx -1 set2T3_40_2022_MCAV_S76_R1_001_val_1.fq.gz -2 set2T3_40_2022_MCAV_S76_R2_001_val_2.fq.gz -S set2T3_40_2022_MCAV_S76.bam\r\n",
      "hisat2 -x mm10idx -1 set2T3_48_2022_MCAV_S75_R1_001_val_1.fq.gz -2 set2T3_48_2022_MCAV_S75_R2_001_val_2.fq.gz -S set2T3_48_2022_MCAV_S75.bam\r\n",
      "hisat2 -x mm10idx -1 set2T3_48_2022_MCAV_S91_R1_001_val_1.fq.gz -2 set2T3_48_2022_MCAV_S91_R2_001_val_2.fq.gz -S set2T3_48_2022_MCAV_S91.bam\r\n",
      "hisat2 -x mm10idx -1 set2T3_49_2022_MCAV_S79_R1_001_val_1.fq.gz -2 set2T3_49_2022_MCAV_S79_R2_001_val_2.fq.gz -S set2T3_49_2022_MCAV_S79.bam\r\n",
      "hisat2 -x mm10idx -1 set2T3_51_2022_MCAV_S80_R1_001_val_1.fq.gz -2 set2T3_51_2022_MCAV_S80_R2_001_val_2.fq.gz -S set2T3_51_2022_MCAV_S80.bam\r\n",
      "hisat2 -x mm10idx -1 set2T3_60_2022_MCAV_S84_R1_001_val_1.fq.gz -2 set2T3_60_2022_MCAV_S84_R2_001_val_2.fq.gz -S set2T3_60_2022_MCAV_S84.bam\r\n",
      "hisat2 -x mm10idx -1 set2T3_8_2019_MCAV_S66_R1_001_val_1.fq.gz -2 set2T3_8_2019_MCAV_S66_R2_001_val_2.fq.gz -S set2T3_8_2019_MCAV_S66.bam\r\n",
      "hisat2 -x mm10idx -1 set2T3_8_2019_MCAV_S83_R1_001_val_1.fq.gz -2 set2T3_8_2019_MCAV_S83_R2_001_val_2.fq.gz -S set2T3_8_2019_MCAV_S83.bam\r\n",
      "hisat2 -x mm10idx -1 set2T3_9_2019_MCAV_S69_R1_001_val_1.fq.gz -2 set2T3_9_2019_MCAV_S69_R2_001_val_2.fq.gz -S set2T3_9_2019_MCAV_S69.bam\r\n"
     ]
    }
   ],
   "source": [
    "!for f in $(ls *.fq.gz | sed 's/_R[12]_001_val_[12].fq.gz//g'| sort -u); do echo hisat2 -x mm10idx -1 ${f}_R1_001_val_1.fq.gz -2 ${f}_R2_001_val_2.fq.gz -S ${f}.bam ; done\n"
   ]
  },
  {
   "cell_type": "code",
   "execution_count": 29,
   "id": "90149125",
   "metadata": {},
   "outputs": [
    {
     "name": "stdout",
     "output_type": "stream",
     "text": [
      "/bin/bash: -c: line 1: syntax error: unexpected end of file\n",
      "/bin/bash: -c: line 0: syntax error near unexpected token `do'\n",
      "/bin/bash: -c: line 0: `do'\n",
      "hisat2 -x mm10idx -1 _01.fq.gz -2 _02.fq.gz -S .bam\n",
      "/bin/bash: -c: line 0: syntax error near unexpected token `done'\n",
      "/bin/bash: -c: line 0: `done'\n"
     ]
    }
   ],
   "source": [
    "for f in $(ls *.fq.gz | sed 's/_R[12]_001_val_[12].fq.gz//g'| sort -u); do echo hisat2 -x /project/pi_sarah_gignouxwolfsohn_uml_edu/SCTLD_metagenomes/Mcav_genome/Mcavernosa_July2018_phased_index -1 ${f}_R1_001_val_1.fq.gz -2 ${f}_R2_001_val_2.fq.gz -S $../mapped/{f}.bam ; done\n"
   ]
  },
  {
   "cell_type": "code",
   "execution_count": null,
   "id": "9050efad",
   "metadata": {},
   "outputs": [],
   "source": [
    "#!/bin/bash\n",
    "#SBATCH --mail-type=ALL\n",
    "#SBATCH -c 4  # Number of Cores per Task\n",
    "#SBATCH -t 10-0:00\n",
    "#SBATCH --mem=60000 # Requested Memory\n",
    "#SBATCH -p cpu-preempt  # Partition\n",
    "#SBATCH -c 64  # Number of CPUs\n",
    "#SBATCH -o slurm-%j.out  # %j = job ID\n",
    "\n",
    "module load hisat2/2.2.0\n",
    "\n",
    "for f in $(ls *.fq.gz | sed 's/_R[12]_001_val_[12].fq.gz//g'| sort -u); do hisat2 -q -x /project/pi_sarah_gignouxwolfsohn_uml_edu/SCTLD_metagenomes/Mcav_genome/Mcavernosa_July2018_phased_index -1 ${f}_R1_001_val_1.fq.gz -2 ${f}_R2_001_val_2.fq.gz -S ../mapped/${f}.bam ; done\n"
   ]
  },
  {
   "cell_type": "markdown",
   "id": "eeb67927",
   "metadata": {},
   "source": [
    "Ran out of memory on some of the bigger ones: \n",
    "\n",
    "\n",
    "T1_57_2022_MCAV\n",
    "T3_1_2019_MCAV\n",
    "T3_13_2022_MCAV\n",
    "T3_14_2019_MCAV+\n",
    "T3_19_2022_MCAV\n",
    "T3_40_2022_MCAV+\n",
    "T3_15_2019_MCAV\n",
    "\n",
    "_sorted"
   ]
  },
  {
   "cell_type": "code",
   "execution_count": null,
   "id": "0e167126",
   "metadata": {},
   "outputs": [],
   "source": []
  },
  {
   "cell_type": "code",
   "execution_count": null,
   "id": "c723075b",
   "metadata": {},
   "outputs": [],
   "source": [
    "rename s/_S..// T1*\n",
    "rename s/set2// *.fq.gz"
   ]
  },
  {
   "cell_type": "markdown",
   "id": "f6fc568c",
   "metadata": {},
   "source": [
    "Need to index the reference fasta file"
   ]
  },
  {
   "cell_type": "code",
   "execution_count": null,
   "id": "34f91b15",
   "metadata": {},
   "outputs": [],
   "source": [
    "#!/bin/bash\n",
    "#SBATCH --mail-type=ALL\n",
    "#SBATCH -c 4  # Number of Cores per Task\n",
    "#SBATCH -t 10-0:00\n",
    "#SBATCH --mem=60000 # Requested Memory\n",
    "#SBATCH -p cpu-preempt  # Partition\n",
    "#SBATCH -c 64  # Number of CPUs\n",
    "#SBATCH -o slurm-%j.out  # %j = job ID\n",
    "\n",
    "module load samtools/1.9\n",
    "\n",
    "samtools faidx Mcavernosa_July2018_phased.fasta\n"
   ]
  },
  {
   "cell_type": "markdown",
   "id": "b78b789d",
   "metadata": {},
   "source": [
    "Sort the bam files"
   ]
  },
  {
   "cell_type": "code",
   "execution_count": null,
   "id": "7bfeedc0",
   "metadata": {},
   "outputs": [],
   "source": [
    "#!/bin/bash\n",
    "#SBATCH --mail-type=ALL\n",
    "#SBATCH -c 4  # Number of Cores per Task\n",
    "#SBATCH -t 10-0:00\n",
    "#SBATCH --mem=60000 # Requested Memory\n",
    "#SBATCH -p cpu-preempt  # Partition\n",
    "#SBATCH -c 64  # Number of CPUs\n",
    "#SBATCH -o slurm-%j.out  # %j = job ID\n",
    "\n",
    "module load samtools/1.9\n",
    "\n",
    "samtools sort -u -o\n",
    "\n",
    "for f in $(ls *.bam| sed 's/.bam//g'); do echo samtools sort ${f}.bam -u -o ../sorted_bam/${f}_sorted.bam ; done\n"
   ]
  },
  {
   "cell_type": "code",
   "execution_count": null,
   "id": "8e1ca305",
   "metadata": {},
   "outputs": [],
   "source": [
    "#!/bin/bash\n",
    "#SBATCH --mail-type=ALL\n",
    "#SBATCH -c 4  # Number of Cores per Task\n",
    "#SBATCH -t 10-0:00\n",
    "#SBATCH --mem=60000 # Requested Memory\n",
    "#SBATCH -p cpu-preempt  # Partition\n",
    "#SBATCH -c 64  # Number of CPUs\n",
    "#SBATCH -o slurm-%j.out  # %j = job ID\n",
    "\n",
    "module load angsd/0.935\n",
    "\n",
    "angsd -b Resistant.filelist -minMapQ 30 -minQ 20 -anc /project/pi_sarah_gignouxwolfsohn_uml_edu/SCTLD_metagenomes/Mcav_genome/Mcavernosa_July2018_phased.fasta -out ../saf/Resistant -dosaf 1 -gl 1"
   ]
  },
  {
   "cell_type": "code",
   "execution_count": null,
   "id": "9cef5a46",
   "metadata": {},
   "outputs": [],
   "source": [
    "#!/bin/bash\n",
    "#SBATCH --mail-type=ALL\n",
    "#SBATCH -c 4  # Number of Cores per Task\n",
    "#SBATCH -t 10-0:00\n",
    "#SBATCH --mem=60000 # Requested Memory\n",
    "#SBATCH -p cpu-preempt  # Partition\n",
    "#SBATCH -c 64  # Number of CPUs\n",
    "#SBATCH -o slurm-%j.out  # %j = job ID\n",
    "\n",
    "module load angsd/0.935\n",
    "\n",
    "realSFS Resistant.saf.idx Susceptible.saf.idx > ../sfs/Resistant.Susceptible.ml\n"
   ]
  },
  {
   "cell_type": "code",
   "execution_count": null,
   "id": "8c7fce51",
   "metadata": {},
   "outputs": [],
   "source": [
    "#!/bin/bash\n",
    "#SBATCH --mail-type=ALL\n",
    "#SBATCH -c 4  # Number of Cores per Task\n",
    "#SBATCH -t 10-0:00\n",
    "#SBATCH --mem=60000 # Requested Memory\n",
    "#SBATCH -p cpu-preempt  # Partition\n",
    "#SBATCH -c 64  # Number of CPUs\n",
    "#SBATCH -o slurm-%j.out  # %j = job ID\n",
    "\n",
    "module load angsd/0.935\n",
    "realSFS fst index ../saf/Resistant.saf.idx ../saf/Susceptible.saf.idx -sfs Resistant.Susceptible.ml -fstout ../fst/Resistant.Susceptible\n"
   ]
  },
  {
   "cell_type": "code",
   "execution_count": null,
   "id": "5ccacd32",
   "metadata": {},
   "outputs": [],
   "source": [
    "#!/bin/bash\n",
    "#SBATCH --mail-type=ALL\n",
    "#SBATCH -c 4  # Number of Cores per Task\n",
    "#SBATCH -t 10-0:00\n",
    "#SBATCH --mem=60000 # Requested Memory\n",
    "#SBATCH -p cpu-preempt  # Partition\n",
    "#SBATCH -c 64  # Number of CPUs\n",
    "#SBATCH -o slurm-%j.out  # %j = job ID\n",
    "\n",
    "module load angsd/0.935\n",
    "\n",
    "realSFS fst print Resistant.Susceptible.fst.idx\n",
    "\n",
    "realSFS fst stats2 Resistant.Susceptible.fst.idx -win 50000 -step 10000 >Resistant.Susceptible.slidingwindow"
   ]
  },
  {
   "cell_type": "markdown",
   "id": "8e915ab8-1ba1-4791-ab95-27c7decf019a",
   "metadata": {},
   "source": [
    "Map to symbionts"
   ]
  },
  {
   "cell_type": "code",
   "execution_count": null,
   "id": "5db6e8cd",
   "metadata": {},
   "outputs": [],
   "source": [
    "bowtie2-build symbio_refs.fna symbio_refs_index --threads 15\n"
   ]
  },
  {
   "cell_type": "code",
   "execution_count": null,
   "id": "5bc3ddc3",
   "metadata": {},
   "outputs": [],
   "source": [
    "#!/bin/bash\n",
    "#SBATCH --mail-type=ALL\n",
    "#SBATCH -c 4  # Number of Cores per Task\n",
    "#SBATCH -t 10-0:00\n",
    "#SBATCH --mem=60000 # Requested Memory\n",
    "#SBATCH -p cpu-preempt  # Partition\n",
    "#SBATCH -c 64  # Number of CPUs\n",
    "#SBATCH -o slurm-%j.out  # %j = job ID\n",
    "\n",
    "module load bowtie2/2.4.2\n",
    "\n",
    "for f in $(ls Genomes/); do cd Genomes/${f}/; bowtie2-build ${f}.* ../../indexed/${f}_index --threads 15 ; cd ../../ ; done\n"
   ]
  },
  {
   "cell_type": "code",
   "execution_count": null,
   "id": "dab329df",
   "metadata": {},
   "outputs": [],
   "source": [
    "#!/bin/bash\n",
    "#SBATCH --mail-type=ALL\n",
    "#SBATCH -c 4  # Number of Cores per Task\n",
    "#SBATCH -t 10-0:00\n",
    "#SBATCH --mem=60000 # Requested Memory\n",
    "#SBATCH -p cpu-preempt  # Partition\n",
    "#SBATCH -c 64  # Number of CPUs\n",
    "#SBATCH -o slurm-%j.out  # %j = job ID\n",
    "\n",
    "module load miniconda/22.11.1-1\n",
    "\n",
    "conda activate genomes\n",
    "\n",
    "\n",
    "for f in $(ls *.fq.gz| sed 's/_R[12]_001_val_[12].fq.gz//g'); \n",
    "do fastq_screen --threads 15 --subset 0 --tag --aligner Bowtie2 \"$f\"_R1_001_val_1.fq \"$f\"_R2_001_val_2.fq; \n",
    "done"
   ]
  },
  {
   "cell_type": "code",
   "execution_count": null,
   "id": "4b3ad699",
   "metadata": {},
   "outputs": [],
   "source": [
    "for dir in $(ls); do cd $dir; java -jar /local/home/sarahgw/Trimmomatic-0.36/trimmomatic-0.36.jar PE -phred33 $(pwd)/\"$dir\"_FU1.fastq $(pwd)/\"$dir\"_FU2.fastq $(pwd)/\"$dir\"_FU1_trim_p.fastq $(pwd)/\"$dir\"_FU1_trim_up.fastq $(pwd)/\"$dir\"_FU2_trim_p.fastq $(pwd)/\"$dir\"_FU2_trim_up.fastq ILLUMINACLIP:/local/home/sarahgw/Trimmomatic-0.36/adapters/NexteraPE-PE.fa:2:30:10 LEADING:3 TRAILING:3 SLIDINGWINDOW:4:15 MINLEN:30; cd ..; done\n"
   ]
  }
 ],
 "metadata": {
  "kernelspec": {
   "display_name": "Python 3 (ipykernel)",
   "language": "python",
   "name": "python3"
  },
  "language_info": {
   "codemirror_mode": {
    "name": "ipython",
    "version": 3
   },
   "file_extension": ".py",
   "mimetype": "text/x-python",
   "name": "python",
   "nbconvert_exporter": "python",
   "pygments_lexer": "ipython3",
   "version": "3.11.5"
  }
 },
 "nbformat": 4,
 "nbformat_minor": 5
}
